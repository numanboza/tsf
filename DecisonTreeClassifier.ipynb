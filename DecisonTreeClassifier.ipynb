{
  "nbformat": 4,
  "nbformat_minor": 0,
  "metadata": {
    "colab": {
      "name": "DecisonTreeClassifier.ipynb",
      "provenance": [],
      "collapsed_sections": []
    },
    "kernelspec": {
      "name": "python3",
      "display_name": "Python 3"
    }
  },
  "cells": [
    {
      "cell_type": "code",
      "metadata": {
        "id": "8J4CXczJqGZS",
        "colab_type": "code",
        "colab": {}
      },
      "source": [
        "# Importing libraries in Python\n",
        "import sklearn.datasets as datasets\n",
        "import pandas as pd\n",
        "\n",
        "# Loading the iris dataset\n",
        "iris=datasets.load_iris()\n",
        "\n",
        "# Forming the iris dataframe\n",
        "df=pd.DataFrame(iris.data, columns=iris.feature_names)\n",
        "print(df.head(5))\n",
        "\n",
        "y=iris.target\n",
        "print(y)"
      ],
      "execution_count": null,
      "outputs": []
    },
    {
      "cell_type": "code",
      "metadata": {
        "id": "E-IuLs1PqrC5",
        "colab_type": "code",
        "colab": {}
      },
      "source": [
        "# Defining the decision tree algorithm\n",
        "from sklearn.tree import DecisionTreeClassifier\n",
        "dtree=DecisionTreeClassifier()\n",
        "dtree.fit(df,y)\n",
        "\n",
        "print('Decision Tree Classifer Created')"
      ],
      "execution_count": null,
      "outputs": []
    },
    {
      "cell_type": "code",
      "metadata": {
        "id": "uU6wOFNrq1NN",
        "colab_type": "code",
        "colab": {}
      },
      "source": [
        "# Install required libraries\n",
        "!pip install pydotplus\n",
        "!apt-get install graphviz -y"
      ],
      "execution_count": null,
      "outputs": []
    },
    {
      "cell_type": "code",
      "metadata": {
        "id": "1fPwB93Gq9Yx",
        "colab_type": "code",
        "colab": {}
      },
      "source": [
        "# Import necessary libraries for graph viz\n",
        "from sklearn.externals.six import StringIO  \n",
        "from IPython.display import Image  \n",
        "from sklearn.tree import export_graphviz\n",
        "import pydotplus\n",
        "\n",
        "# Visualize the graph\n",
        "dot_data = StringIO()\n",
        "export_graphviz(dtree, out_file=dot_data, feature_names=iris.feature_names,  \n",
        "                filled=True, rounded=True,\n",
        "                special_characters=True)\n",
        "graph = pydotplus.graph_from_dot_data(dot_data.getvalue())  \n",
        "Image(graph.create_png())"
      ],
      "execution_count": null,
      "outputs": []
    }
  ]
}